{
 "cells": [
  {
   "cell_type": "markdown",
   "metadata": {},
   "source": [
    "# SARS-ARENA: Structure-based identification of SARS-derived peptides with potential to induce broad protective immunity\n",
    "\n",
    "## *Workflow 2* - Peptide-HLA Prediction for Conserved SARS-CoV-2 Peptides"
   ]
  },
  {
   "cell_type": "markdown",
   "metadata": {},
   "source": [
    "Welcome to the Peptide-HLA Prediction for Conserved SARS-CoV-2 Peptides Workflow. This notebook will allow you to model the conserved peptides selected in Workflow 1 with a HLA of interest. \n",
    "\n",
    "This workflow consists of 5 steps: \n",
    "    1. Obtain peptide and HLA sequences for prediction;\n",
    "    2. Filter peptides using a sequence-based affinity prediction tool;\n",
    "    3. Model HLAs;\n",
    "    4. Model peptide-HLA complexes with APE-Gen;\n",
    "    5. Structural scoring functions.\n",
    "\n",
    "**In order to run a cell, first click on the cell, then press shift-enter. The code inside the cell will then be executed. Note that the content of the cell can be executed as Code or Markdown. Also, inside the cell you may find comments to explain a specific command. These comments are marked with \"#\"**\n",
    "\n",
    "**BEFORE STARTING THIS WORKFLOW, MAKE SURE YOU FOLLOWED THE INSTRUCTIONS TO UPDATE THE DOCKER IMAGE TO RUN THE PROGRAM MODELLER. Check DOCUMENTATION.html file, available at https://github.com/KavrakiLab/SARS-Arena.**\n"
   ]
  },
  {
   "cell_type": "markdown",
   "metadata": {},
   "source": [
    "### Step 1) Obtain peptide and HLA sequences for prediction"
   ]
  },
  {
   "cell_type": "markdown",
   "metadata": {},
   "source": [
    "In this first part, you will load the peptides and the HLAs you want to be modeled."
   ]
  },
  {
   "cell_type": "markdown",
   "metadata": {},
   "source": [
    "#### 1.1. Necessary imports:\n",
    "Run this cell to make the necessary imports. This cell should be run only one time, unless you close this session and open it again."
   ]
  },
  {
   "cell_type": "code",
   "execution_count": null,
   "metadata": {},
   "outputs": [],
   "source": [
    "# System-based imports\n",
    "import os\n",
    "\n",
    "# Data processing\n",
    "import pandas as pd\n",
    "import shutil\n",
    "import itertools\n",
    "\n",
    "#For visualization and interaction purposes\n",
    "import matplotlib as plt\n",
    "%matplotlib inline\n",
    "from ipywidgets import widgets\n",
    "plt.rcParams['figure.figsize'] = [14, 10]\n",
    "plt.rcParams['figure.dpi'] = 100\n",
    "\n",
    "# For utility functions used within the code\n",
    "from SARS_Arena import *"
   ]
  },
  {
   "cell_type": "markdown",
   "metadata": {},
   "source": [
    "#### 1.2. Setting a working directory:\n",
    "Choose an appropriate directory for storing all the files or use the default (*Peptide-HLA_Binding_Prediction_Workflow*)."
   ]
  },
  {
   "cell_type": "code",
   "execution_count": null,
   "metadata": {},
   "outputs": [],
   "source": [
    "dir_of_workflow_2 = \"./Peptide-HLA_Binding_Prediction_Workflow_2\"\n",
    "os.makedirs(dir_of_workflow_2, exist_ok=True)\n",
    "os.chdir(dir_of_workflow_2)"
   ]
  },
  {
   "cell_type": "markdown",
   "metadata": {},
   "source": [
    "#### 1.3. Loading files:\n"
   ]
  },
  {
   "cell_type": "markdown",
   "metadata": {},
   "source": [
    "For this workflow, you will need two files:\n",
    "\n",
    "**File 1)** The peptide list obtained from Workflow 1 (default name: *peptides.list*)\n",
    "- In this file, each line should correspond to one peptide;\n",
    "- This file should be located in folder \"Peptide_Extraction_Workflow_1A/B/C\", unless you changed the name of the folder. If you changed the file location\n",
    "- **Please, copy this file to the folder you set as working directory (the folder name is described on the cell above)**\n",
    "\n",
    "**File 2)** A list of HLAs you want to model these peptides (default name: *hlas.list*)\n",
    "- In this file, each line should correspond to one HLA. **It is important that the HLA name follows the pattern GENE\\*ALLELE GROUP:HLA PROTEIN (e.g. A\\*02:01, B\\*57:01, C\\*11:07)**\n",
    "- **This file should be located in the same folder as the peptides.list (your working directory folder)**\n",
    "- You can find an example \\emph{hlas.list} in the utils folder"
   ]
  },
  {
   "cell_type": "markdown",
   "metadata": {},
   "source": [
    "Run the cell bellow to load the peptides. If everything runs well, the number of peptides will be displayed."
   ]
  },
  {
   "cell_type": "code",
   "execution_count": null,
   "metadata": {},
   "outputs": [],
   "source": [
    "peptides = list(pd.read_csv(\"peptides.list\", header=None)[0])\n",
    "print(\"Number of peptides:\", len(peptides))"
   ]
  },
  {
   "cell_type": "markdown",
   "metadata": {},
   "source": [
    "Run the cell bellow to load the HLAs. If everything runs well, the number of HLAs will be displayed."
   ]
  },
  {
   "cell_type": "code",
   "execution_count": null,
   "metadata": {},
   "outputs": [],
   "source": [
    "hlas = list(pd.read_csv(\"hlas.list\", header=None)[0])\n",
    "print(\"Number of hlas:\", len(hlas))"
   ]
  },
  {
   "cell_type": "markdown",
   "metadata": {},
   "source": [
    "In order to model the HLAs, we need the protein sequence of these molecules. We use the IMGT/HLA Database to obtain these sequences."
   ]
  },
  {
   "cell_type": "code",
   "execution_count": null,
   "metadata": {},
   "outputs": [],
   "source": [
    "hla_sequences = fetch_hla_sequences(hlas)"
   ]
  },
  {
   "cell_type": "markdown",
   "metadata": {},
   "source": [
    "As there could be a missmatch or missing data, we keep only the HLAs that we found sequences for for the rest of the workflow:"
   ]
  },
  {
   "cell_type": "code",
   "execution_count": null,
   "metadata": {},
   "outputs": [],
   "source": [
    "print(\"Number of hlas with available sequences from IMGT:\", len(hla_sequences))"
   ]
  },
  {
   "cell_type": "markdown",
   "metadata": {},
   "source": [
    "Here, you can see the HLA sequences obtained from IMGT/HLA Database:"
   ]
  },
  {
   "cell_type": "code",
   "execution_count": null,
   "metadata": {},
   "outputs": [],
   "source": [
    "hla_sequences"
   ]
  },
  {
   "cell_type": "markdown",
   "metadata": {},
   "source": [
    "### Step 2) Filter peptides using a sequence-based affinity prediction tool\n",
    "In this part, you will be able to filter the peptides according to specific binding values. These values are acquired using a sequence-based scoring function from [MHCflurry tool](https://openvax.github.io/mhcflurry/)."
   ]
  },
  {
   "cell_type": "markdown",
   "metadata": {},
   "source": [
    "#### 2.1. MHCFlurry Supported HLAs:"
   ]
  },
  {
   "cell_type": "markdown",
   "metadata": {},
   "source": [
    "As MHCFlurry does not have support over all human alleles, we need to further filter the input alleles so that only the supported ones pass through MHCFlurry:"
   ]
  },
  {
   "cell_type": "code",
   "execution_count": null,
   "metadata": {},
   "outputs": [],
   "source": [
    "hla_sequences = hla_filtering(hla_sequences)"
   ]
  },
  {
   "cell_type": "code",
   "execution_count": null,
   "metadata": {},
   "outputs": [],
   "source": [
    "hla_sequences"
   ]
  },
  {
   "cell_type": "markdown",
   "metadata": {},
   "source": [
    "#### 2.2. Running MHCflurry:\n"
   ]
  },
  {
   "cell_type": "markdown",
   "metadata": {},
   "source": [
    "First, you will need to prepare the input file that consists of two columns - allele and peptide - running the cell below. For more information, refer to https://openvax.github.io/mhcflurry/"
   ]
  },
  {
   "cell_type": "code",
   "execution_count": null,
   "metadata": {},
   "outputs": [],
   "source": [
    "mucflurry_input = pd.DataFrame(list(itertools.product(list(hla_sequences.keys()),peptides)),\n",
    "                               columns =['allele', 'peptide'])\n",
    "mucflurry_input.to_csv('mhcflurry_input.csv', index = False)"
   ]
  },
  {
   "cell_type": "markdown",
   "metadata": {},
   "source": [
    "You can see the input data format below:"
   ]
  },
  {
   "cell_type": "code",
   "execution_count": null,
   "metadata": {},
   "outputs": [],
   "source": [
    "mucflurry_input"
   ]
  },
  {
   "cell_type": "markdown",
   "metadata": {},
   "source": [
    "A file called \"mhcflurry_input.csv\" was created in your current folder. You can now run the peptide-HLA prediction using MHCflurry running the cell below."
   ]
  },
  {
   "cell_type": "code",
   "execution_count": null,
   "metadata": {},
   "outputs": [],
   "source": [
    "mhcflurry_scoring()"
   ]
  },
  {
   "cell_type": "markdown",
   "metadata": {},
   "source": [
    "After running the cell above, you will get a file called \"predictions.csv\". For manual checking, you can open this file and check the values. The binding affinity predictions are given as affinities (Kd) in nM in the *mhcflurry_prediction* column. Lower values indicate stronger binders (as a reference, we normally use a threshold of 500nM). The *mhcflurry_prediction_percentile* column gives the percentile of the affinity prediction among a large number of random peptides tested on that allele (range 0 - 100). Lower is stronger (as a reference, we normally use a value of 2%)."
   ]
  },
  {
   "cell_type": "code",
   "execution_count": null,
   "metadata": {},
   "outputs": [],
   "source": [
    "df_predictions = pd.read_csv(\"predictions.csv\")\n",
    "df_predictions = df_predictions[['allele', 'peptide', 'mhcflurry_prediction']]"
   ]
  },
  {
   "cell_type": "code",
   "execution_count": null,
   "metadata": {},
   "outputs": [],
   "source": [
    "df_predictions.head(5)"
   ]
  },
  {
   "cell_type": "markdown",
   "metadata": {},
   "source": [
    "Here, we will apply the cutoff of 500nM before proceeding to the structure-based analysis, to retain only the peptides with higher binding probability.\n",
    "\n",
    "**PS: After running this cell, you can change the cutoff value through the slider located immediately below this cell**"
   ]
  },
  {
   "cell_type": "code",
   "execution_count": null,
   "metadata": {},
   "outputs": [],
   "source": [
    "binder_cutoff = widgets.Text()\n",
    "mhcflurry_plot_selection(df_predictions, binder_cutoff)"
   ]
  },
  {
   "cell_type": "markdown",
   "metadata": {},
   "source": [
    "Let's now check the peptides retrieved from the sequence prediction filtering above:"
   ]
  },
  {
   "cell_type": "code",
   "execution_count": null,
   "metadata": {},
   "outputs": [],
   "source": [
    "Filtered_peptides = df_predictions[df_predictions['mhcflurry_prediction'] < int(binder_cutoff.value)]\n",
    "Filtered_peptides"
   ]
  },
  {
   "cell_type": "markdown",
   "metadata": {},
   "source": [
    "### Step 3) Model HLAs"
   ]
  },
  {
   "cell_type": "markdown",
   "metadata": {},
   "source": [
    "The homology modeling step uses MODELLER, which requires a license key. Follow the [DOCUMENTATION](http://127.0.0.1:8888/view/DOCUMENTATION.html) to update the key, before executing the following cells. You will need to update the key one time only."
   ]
  },
  {
   "cell_type": "markdown",
   "metadata": {},
   "source": [
    "A subset of HLAs will be created, based on the alleles that passed the sequence-based prediction threshold"
   ]
  },
  {
   "cell_type": "code",
   "execution_count": null,
   "metadata": {},
   "outputs": [],
   "source": [
    "hla_sequences = {key: hla_sequences[key] for key in Filtered_peptides['allele'].to_list()}"
   ]
  },
  {
   "cell_type": "code",
   "execution_count": null,
   "metadata": {},
   "outputs": [],
   "source": [
    "hla_sequences"
   ]
  },
  {
   "cell_type": "code",
   "execution_count": null,
   "metadata": {},
   "outputs": [],
   "source": [
    "model_hlas_MODELLER(hla_sequences)"
   ]
  },
  {
   "cell_type": "markdown",
   "metadata": {},
   "source": [
    "### Step 4) Model peptide-HLA complexes with APE-Gen"
   ]
  },
  {
   "cell_type": "markdown",
   "metadata": {},
   "source": [
    "Now, we will model the three-dimensional structure of these peptides in the context of each HLA using *APE-GEN* tool, a fast method to generate peptide-HLA ensembles. You can find more ingormation about this tool in this [link](https://pubmed.ncbi.nlm.nih.gov/30832312/).\n",
    "\n",
    "This process can take some time, depending on the number of complexes to be modelled. Run the cell below to check the approximated time needed for modelling these structures."
   ]
  },
  {
   "cell_type": "code",
   "execution_count": null,
   "metadata": {},
   "outputs": [],
   "source": [
    "print(\"Approximated time needed for modelling peptides with APE-Gen (8 cores per allele):\")\n",
    "print(\"2 minutes per complex\")\n",
    "print(\"{:}\".format(Filtered_peptides.shape[0]*2)+\" minutes for the total of \" +str(Filtered_peptides.shape[0])+ \" complexes\")"
   ]
  },
  {
   "cell_type": "markdown",
   "metadata": {},
   "source": [
    "The cell below runs APE-gen:"
   ]
  },
  {
   "cell_type": "code",
   "execution_count": null,
   "metadata": {},
   "outputs": [],
   "source": [
    "best_scoring_confs = model_structures(Filtered_peptides)"
   ]
  },
  {
   "cell_type": "markdown",
   "metadata": {},
   "source": [
    "The peptide-HLA complexes were modelled and can be found on the folder described at the end of each round of modelling (above). APE-GEN generates several files, but if you are interested only in the lowest energy structure, search for the \"*openmm_min_energy_system.pdb*\" file."
   ]
  },
  {
   "cell_type": "markdown",
   "metadata": {},
   "source": [
    "### Step 5) Structural scoring functions"
   ]
  },
  {
   "cell_type": "markdown",
   "metadata": {},
   "source": [
    "Here we offer the opportunity to rerun the scoring calculation using Autodock, Vina, Vinardo, or our custom scoring function."
   ]
  },
  {
   "cell_type": "markdown",
   "metadata": {},
   "source": [
    "#### 5.1) Score modeled complexes with Autodock (AD4), Vina or Vinardo scoring functions\n",
    "\n",
    "You can use the standard docking scoring functions (Vina, AD4, Vinardo) and our own custom scoring function to rank the modeled structures and refine your picks for further investigation:"
   ]
  },
  {
   "cell_type": "code",
   "execution_count": null,
   "metadata": {},
   "outputs": [],
   "source": [
    "scoring_results = score_structures(best_scoring_confs)"
   ]
  },
  {
   "cell_type": "markdown",
   "metadata": {},
   "source": [
    "Here are the results for all four scoring functions:"
   ]
  },
  {
   "cell_type": "code",
   "execution_count": null,
   "metadata": {},
   "outputs": [],
   "source": [
    "scoring_results"
   ]
  },
  {
   "cell_type": "markdown",
   "metadata": {},
   "source": [
    "You are now free to pick 1 of the 4 scoring functions that you think represents your peptide-HLA pairs and filter them based on this scoring function:"
   ]
  },
  {
   "cell_type": "code",
   "execution_count": null,
   "metadata": {},
   "outputs": [],
   "source": [
    "scoring_function = '3pHLA'\n",
    "energy_cutoff = widgets.Text()\n",
    "energy_plot_selection(scoring_results, scoring_function, energy_cutoff)"
   ]
  },
  {
   "cell_type": "markdown",
   "metadata": {},
   "source": [
    "Results from the above process:"
   ]
  },
  {
   "cell_type": "code",
   "execution_count": null,
   "metadata": {},
   "outputs": [],
   "source": [
    "print(\"Scoring function chosen: \" + scoring_function)\n",
    "print(\"Energy threshold chosen: \" + energy_cutoff.value)\n",
    "selected = scoring_results[scoring_results[scoring_function] < float(energy_cutoff.value)]\n",
    "selected"
   ]
  },
  {
   "cell_type": "markdown",
   "metadata": {},
   "source": [
    "Run the cells below to store the structures you picked above in the folder you want:"
   ]
  },
  {
   "cell_type": "code",
   "execution_count": null,
   "metadata": {},
   "outputs": [],
   "source": [
    "structures_storage_location = \"./workflow2_selected_structures\"\n",
    "os.makedirs(structures_storage_location, exist_ok=True)"
   ]
  },
  {
   "cell_type": "code",
   "execution_count": null,
   "metadata": {},
   "outputs": [],
   "source": [
    "store_best_structures(best_scoring_confs, selected, structures_storage_location)"
   ]
  }
 ],
 "metadata": {
  "kernelspec": {
   "display_name": "Python 3",
   "language": "python",
   "name": "python3"
  },
  "language_info": {
   "codemirror_mode": {
    "name": "ipython",
    "version": 3
   },
   "file_extension": ".py",
   "mimetype": "text/x-python",
   "name": "python",
   "nbconvert_exporter": "python",
   "pygments_lexer": "ipython3",
   "version": "3.6.7"
  }
 },
 "nbformat": 4,
 "nbformat_minor": 4
}
